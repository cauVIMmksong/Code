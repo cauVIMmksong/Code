{
 "cells": [
  {
   "cell_type": "markdown",
   "metadata": {},
   "source": [
    "### 조건문"
   ]
  },
  {
   "cell_type": "code",
   "execution_count": 6,
   "metadata": {},
   "outputs": [
    {
     "name": "stdout",
     "output_type": "stream",
     "text": [
      "<\n"
     ]
    }
   ],
   "source": [
    "# 1330: 두 정수 A와 B가 주어졌을 때, A와 B를 비교하는 프로그램을 작성하시오.\n",
    "\n",
    "A, B = map(int, input().split())\n",
    "\n",
    "if A > B:\n",
    "    print(\">\")\n",
    "elif A < B:\n",
    "    print(\"<\")\n",
    "elif A==B:\n",
    "    print(\"==\")\n"
   ]
  },
  {
   "cell_type": "code",
   "execution_count": 17,
   "metadata": {},
   "outputs": [
    {
     "name": "stdout",
     "output_type": "stream",
     "text": [
      "F\n"
     ]
    }
   ],
   "source": [
    "# 9498: 시험 점수를 입력받아 90 ~ 100점은 A, 80 ~ 89점은 B, 70 ~ 79점은 C, 60 ~ 69점은 D, 나머지 점수는 F를 출력하는 프로그램을 작성하시오.\n",
    "\n",
    "score = int(input())\n",
    "\n",
    "if score <= 100 and score >=90:\n",
    "    print(\"A\")\n",
    "if score <= 89 and score >=80:\n",
    "    print(\"B\")\n",
    "if score <= 79 and score >=70:\n",
    "    print(\"C\")\n",
    "if score <= 69 and score >=60:\n",
    "    print(\"D\")\n",
    "if score <60:\n",
    "    print(\"F\")"
   ]
  },
  {
   "cell_type": "code",
   "execution_count": 28,
   "metadata": {},
   "outputs": [
    {
     "name": "stdout",
     "output_type": "stream",
     "text": [
      "1\n"
     ]
    }
   ],
   "source": [
    "# 2753: 연도가 주어졌을 때, 윤년이면 1, 아니면 0을 출력하는 프로그램을 작성하시오.\n",
    "#윤년은 연도가 4의 배수이면서, 100의 배수가 아닐 때 또는 400의 배수일 때이다.\n",
    "#예를 들어, 2012년은 4의 배수이면서 100의 배수가 아니라서 윤년이다. 1900년은 100의 배수이고 400의 배수는 아니기 때문에 윤년이 아니다. 하지만, 2000년은 400의 배수이기 때문에 윤년이다.\n",
    "\n",
    "year = int(input())\n",
    "\n",
    "if year % 4 == 0 and year % 100 != 0 or year % 400 == 0:\n",
    "    print(1)\n",
    "else:\n",
    "    print(0)"
   ]
  },
  {
   "cell_type": "code",
   "execution_count": 31,
   "metadata": {},
   "outputs": [
    {
     "name": "stdout",
     "output_type": "stream",
     "text": [
      "1\n"
     ]
    }
   ],
   "source": [
    "\n",
    "# 14681: 흔한 수학 문제 중 하나는 주어진 점이 어느 사분면에 속하는지 알아내는 것이다. 사분면은 아래 그림처럼 1부터 4까지 번호를 갖는다. \"Quadrant n\"은 \"제n사분면\"이라는 뜻이다.\n",
    "\n",
    "x = int(input())\n",
    "y = int(input())\n",
    "\n",
    "if x > 0 and y > 0:\n",
    "    print(1)\n",
    "if x > 0 and y < 0:\n",
    "    print(4)\n",
    "if x < 0 and y > 0:\n",
    "    print(2)\n",
    "if x < 0 and y < 0:\n",
    "    print(3)"
   ]
  },
  {
   "cell_type": "code",
   "execution_count": 57,
   "metadata": {},
   "outputs": [
    {
     "name": "stdout",
     "output_type": "stream",
     "text": [
      "9 25\n"
     ]
    }
   ],
   "source": [
    "# 2884: 첫째 줄에 두 정수 H와 M이 주어진다. (0 ≤ H ≤ 23, 0 ≤ M ≤ 59) 그리고 이것은 현재 상근이가 설정한 알람 시간 H시 M분을 의미한다.\n",
    "# 원래 설정되어 있는 알람을 45분 앞서는 시간으로 바꾸는 것\n",
    "# 입력 시간은 24시간 표현을 사용한다. 24시간 표현에서 하루의 시작은 0:0(자정)이고, 끝은 23:59(다음날 자정 1분 전)이다. 시간을 나타낼 때, 불필요한 0은 사용하지 않는다.\n",
    "\n",
    "H, M = map(int, input().split())\n",
    "\n",
    "if M < 45 and H >= 1:\n",
    "    print(H-1, (M+60)-45)\n",
    "if M >= 45 :\n",
    "    print(H,M - 45)\n",
    "if M < 45 and H < 1 :\n",
    "    print(24-1,(M+60)-45)"
   ]
  },
  {
   "cell_type": "code",
   "execution_count": 29,
   "metadata": {},
   "outputs": [
    {
     "name": "stdout",
     "output_type": "stream",
     "text": [
      "23 48\n",
      "25\n",
      "0 37\n"
     ]
    }
   ],
   "source": [
    "# 2525: 시작하는 시각과 오븐구이를 하는 데 필요한 시간이 분단위로 주어졌을 때, 오븐구이가 끝나는 시각을 계산하는 프로그램을 작성\n",
    "# 현재 시각은 시 A (0 ≤ A ≤ 23) 와 분 B (0 ≤ B ≤ 59)가 정수로 빈칸을 사이에 두고 순서대로 주어진다.\n",
    "# 두 번째 줄에는 요리하는 데 필요한 시간 C (0 ≤ C ≤ 1,000)가 분 단위로 주어진다.\n",
    "import math\n",
    "\n",
    "H, M = map(int, input().split())\n",
    "oven = int(input())\n",
    "print(H, M)\n",
    "print(oven)\n",
    "\n",
    "if oven % 60 > 0:\n",
    "    if oven / 60 >= 1:\n",
    "        H = math.trunc(H + (oven / 60))\n",
    "        if H > 23:\n",
    "            H = 24 - H\n",
    "        oven = oven - (math.trunc(oven / 60) * 60)\n",
    "        if M + oven >= 60:\n",
    "            H = H + 1\n",
    "            if H > 23:\n",
    "                H = 24 - H\n",
    "            M = 60 - (M + oven)\n",
    "        elif M + oven == 60:\n",
    "            H = H + 1\n",
    "            if H > 23:\n",
    "                H = 24 - H\n",
    "            M = 0\n",
    "    elif oven / 60 < 1:\n",
    "        if M + (oven % 60) >= 60:\n",
    "            H = H + 1\n",
    "            if H > 23:\n",
    "                H = 24 - H\n",
    "            M = 60 - M + oven\n",
    "        elif M + oven == 60:\n",
    "            H = H + 1\n",
    "            if H > 23:\n",
    "                H = 24 - H\n",
    "            M = 0\n",
    "        else:\n",
    "            M = M + oven\n",
    "\n",
    "print(H,M)\n"
   ]
  },
  {
   "cell_type": "code",
   "execution_count": 30,
   "metadata": {},
   "outputs": [
    {
     "name": "stdout",
     "output_type": "stream",
     "text": [
      "0 13\n"
     ]
    }
   ],
   "source": [
    "# 2525: 시작하는 시각과 오븐구이를 하는 데 필요한 시간이 분단위로 주어졌을 때, 오븐구이가 끝나는 시각을 계산하는 프로그램을 작성\n",
    "# 현재 시각은 시 A (0 ≤ A ≤ 23) 와 분 B (0 ≤ B ≤ 59)가 정수로 빈칸을 사이에 두고 순서대로 주어진다.\n",
    "# 두 번째 줄에는 요리하는 데 필요한 시간 C (0 ≤ C ≤ 1,000)가 분 단위로 주어진다.\n",
    "\n",
    "H, M = map(int, input().split())\n",
    "oven = int(input())\n",
    "\n",
    "# 현재 시각에 오븐구이 시간을 더합니다.\n",
    "H += oven // 60\n",
    "M += oven % 60\n",
    "\n",
    "# 분이 60 이상이면 시간을 조정합니다.\n",
    "if M >= 60:\n",
    "    H += 1\n",
    "    M -= 60\n",
    "\n",
    "# 시간이 24 이상이면 0으로 조정합니다.\n",
    "if H >= 24:\n",
    "    H -= 24\n",
    "\n",
    "print(H, M)"
   ]
  },
  {
   "cell_type": "code",
   "execution_count": 12,
   "metadata": {},
   "outputs": [
    {
     "name": "stdout",
     "output_type": "stream",
     "text": [
      "16000\n"
     ]
    }
   ],
   "source": [
    "# 2480 : 1에서부터 6까지의 눈을 가진 3개의 주사위를 던져서 다음과 같은 규칙에 따라 상금을 받는 게임이 있다.\n",
    "# 같은 눈이 3개가 나오면 10,000원+(같은 눈)×1,000원의 상금을 받게 된다.\n",
    "# 같은 눈이 2개만 나오는 경우에는 1,000원+(같은 눈)×100원의 상금을 받게 된다.\n",
    "# 모두 다른 눈이 나오는 경우에는 (그 중 가장 큰 눈)×100원의 상금을 받게 된다.\n",
    "'''\n",
    "D1, D2, D3 = map(int, input().split())\n",
    "#print(D1, D2, D3)\n",
    "\n",
    "if D1 == D2 == D3:\n",
    "    print(10000+(D1*1000))\n",
    "elif D1 == D2 or D1 == D3:\n",
    "    print(1000 + (D1 * 100))\n",
    "elif D2 == D3 and D1 != D2:\n",
    "    print(1000 + (D2 * 100))\n",
    "elif D1 >= D2 and D1 >= D3:\n",
    "    print(100 + (D1 * 100))\n",
    "elif D2 >= D3 and D2 >= D1:\n",
    "    print(100 + (D1 * 100))\n",
    "elif D3 >= D1 and D3 >= D2:\n",
    "    print(100 + (D1 * 100))\n",
    "'''\n",
    "\n",
    "D1, D2, D3 = map(int, input().split())\n",
    "\n",
    "if D1 == D2 == D3:  # Three dice have the same value\n",
    "    print(10000 + (D1 * 1000))\n",
    "elif D1 == D2 or D1 == D3 or D2 == D3:  # Two dice have the same value\n",
    "    if D1 == D2 == D3:  # Special case for three of a kind\n",
    "        print(10000 + (D1 * 1000))\n",
    "    else:\n",
    "        if D1 == D2:\n",
    "            print(1000 + (D1 * 100))\n",
    "        elif D1 == D3:\n",
    "            print(1000 + (D1 * 100))\n",
    "        else:\n",
    "            print(1000 + (D2 * 100))\n",
    "else:  # All dice have different values\n",
    "    max_value = max(D1, D2, D3)  # Find the maximum value among the three dice\n",
    "    print(max_value * 100)"
   ]
  }
 ],
 "metadata": {
  "kernelspec": {
   "display_name": "Python 3",
   "language": "python",
   "name": "python3"
  },
  "language_info": {
   "codemirror_mode": {
    "name": "ipython",
    "version": 3
   },
   "file_extension": ".py",
   "mimetype": "text/x-python",
   "name": "python",
   "nbconvert_exporter": "python",
   "pygments_lexer": "ipython3",
   "version": "3.9.13"
  },
  "orig_nbformat": 4
 },
 "nbformat": 4,
 "nbformat_minor": 2
}
