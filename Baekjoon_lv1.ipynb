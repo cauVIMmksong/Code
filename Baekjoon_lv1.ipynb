{
 "cells": [
  {
   "cell_type": "markdown",
   "metadata": {},
   "source": [
    "### 입출력과 사칙연산 ###"
   ]
  },
  {
   "cell_type": "code",
   "execution_count": 7,
   "metadata": {},
   "outputs": [
    {
     "name": "stdout",
     "output_type": "stream",
     "text": [
      "1\n"
     ]
    }
   ],
   "source": [
    "#1001번 문제\n",
    "'''\n",
    "#1. 값 두 개를 입력받아 변수 a와 b에 저장 (띄어쓰기 구분)\n",
    "a, b = input().split() #문자열로\n",
    "a, b = map(int, input().split()) #정수형으로\n",
    "a, b = map(float, input().split()) #실수형으로 \n",
    "'''\n",
    "\n",
    "A, B = map(int, input().split())\n",
    "print(A-B)"
   ]
  },
  {
   "cell_type": "code",
   "execution_count": 9,
   "metadata": {},
   "outputs": [
    {
     "name": "stdout",
     "output_type": "stream",
     "text": [
      "6\n"
     ]
    }
   ],
   "source": [
    "#10998번 문제\n",
    "\n",
    "A, B = map(int, input().split())\n",
    "print(A*B)"
   ]
  },
  {
   "cell_type": "code",
   "execution_count": 11,
   "metadata": {},
   "outputs": [
    {
     "name": "stdout",
     "output_type": "stream",
     "text": [
      "0.8\n"
     ]
    }
   ],
   "source": [
    "#1008번 문제\n",
    "\n",
    "A, B = map(int, input().split())\n",
    "print(A/B)"
   ]
  },
  {
   "cell_type": "code",
   "execution_count": 13,
   "metadata": {},
   "outputs": [
    {
     "name": "stdout",
     "output_type": "stream",
     "text": [
      "10\n",
      "4\n",
      "21\n",
      "2\n",
      "1\n"
     ]
    }
   ],
   "source": [
    "#10869번 문제\n",
    "\n",
    "A, B = map(int, input().split())\n",
    "\n",
    "print(A+B)\n",
    "print(A-B)\n",
    "print(A*B)\n",
    "print(int(A/B))\n",
    "print(A%B)"
   ]
  },
  {
   "cell_type": "code",
   "execution_count": 48,
   "metadata": {},
   "outputs": [],
   "source": [
    "#10926번 문제\n",
    "\n",
    "'''\n",
    "준하는 사이트에 회원가입을 하다가 joonas라는 아이디가 이미 존재하는 것을 보고 놀랐다. 준하는 놀람을 ??!로 표현한다. 준하가 가입하려고 하는 사이트에 이미 존재하는 아이디가 주어졌을 때, 놀람을 표현하는 프로그램을 작성하시오.\n",
    "입력: 첫째 줄에 준하가 가입하려고 하는 사이트에 이미 존재하는 아이디가 주어진다. 아이디는 알파벳 소문자로만 이루어져 있으며, 길이는 50자를 넘지 않는다.\n",
    "출력: 첫째 줄에 준하의 놀람을 출력한다. 놀람은 아이디 뒤에 ??!를 붙여서 나타낸다.\n",
    "'''\n",
    "\n",
    "# str 내장함수로 islower or isupper 등 문자열 변환가능\n",
    "# and 조건으로 알파벳, 소문자에 50글자 미만인지 확인 + '??!' 문자열 추가하여 출력\n",
    "\n",
    "inputID = input()\n",
    "\n",
    "if str.isalpha(inputID) and str.islower(inputID) and len(inputID) <= 50:\n",
    "    print(inputID + \"??!\")\n"
   ]
  },
  {
   "cell_type": "code",
   "execution_count": 56,
   "metadata": {},
   "outputs": [
    {
     "name": "stdout",
     "output_type": "stream",
     "text": [
      "1998\n"
     ]
    }
   ],
   "source": [
    "# 18108번 문제\n",
    "'''\n",
    "서기 연도를 알아보고 싶은 불기 연도 y가 주어진다. (1000 ≤ y ≤ 3000)\n",
    "입력: 2541\n",
    "출력: 1998\n",
    "543 차이\n",
    "'''\n",
    "\n",
    "val = int(input())\n",
    "val2 = val-543\n",
    "print(val2)\n"
   ]
  },
  {
   "cell_type": "code",
   "execution_count": 60,
   "metadata": {},
   "outputs": [
    {
     "name": "stdout",
     "output_type": "stream",
     "text": [
      "1\n",
      "1\n",
      "0\n",
      "0\n"
     ]
    }
   ],
   "source": [
    "# 10430번 문제\n",
    "'''\n",
    "(A+B)%C는 ((A%C) + (B%C))%C 와 같을까?\n",
    "(A×B)%C는 ((A%C) × (B%C))%C 와 같을까?\n",
    "세 수 A, B, C가 주어졌을 때, 위의 네 가지 값을 구하는 프로그램을 작성하시오.\n",
    "\n",
    "첫째 줄에 (A+B)%C, 둘째 줄에 ((A%C) + (B%C))%C, 셋째 줄에 (A×B)%C, 넷째 줄에 ((A%C) × (B%C))%C를 출력\n",
    "입력:5 8 4\n",
    "출력:1 1 0 0\n",
    "'''\n",
    "\n",
    "A, B, C = map(int, input().split())\n",
    "print((A+B)%C)\n",
    "print(((A%C) + (B%C))%C)\n",
    "print((A*B)%C)\n",
    "print(((A%C) * (B%C))%C)"
   ]
  },
  {
   "cell_type": "code",
   "execution_count": 71,
   "metadata": {},
   "outputs": [
    {
     "name": "stdout",
     "output_type": "stream",
     "text": [
      "2360\n",
      "3776\n",
      "1416\n",
      "181720\n"
     ]
    }
   ],
   "source": [
    "# 2588번 문제\n",
    "'''\n",
    "첫째 줄에 (1)의 위치에 들어갈 세 자리 자연수가, 둘째 줄에 (2)의 위치에 들어갈 세자리 자연수가 주어진다.\n",
    "첫째 줄부터 넷째 줄까지 차례대로 (3), (4), (5), (6)에 들어갈 값을 출력한다.\n",
    "\n",
    "  입력:\n",
    "472\n",
    "385\n",
    "  출력:\n",
    "2360\n",
    "3776\n",
    "1416\n",
    "181720\n",
    "'''\n",
    "\n",
    "#자연수인지 확인, 3자리인지 확인\n",
    "#B는 각 str을 분할하여 int값으로 계산한다\n",
    "\n",
    "A = input()\n",
    "B = input()\n",
    "if int(A) > 0 and len(A)==3 and int(B) > 0 and len(B) == 3:\n",
    "    print(int(A)*int(B[2]))\n",
    "    print(int(A)*int(B[1]))\n",
    "    print(int(A)*int(B[0]))\n",
    "    print(int(A)*int(B[2]) + int(A)*int(B[1])*10 + int(A)*int(B[0])*100)"
   ]
  },
  {
   "cell_type": "code",
   "execution_count": 75,
   "metadata": {},
   "outputs": [
    {
     "name": "stdout",
     "output_type": "stream",
     "text": [
      "7931\n"
     ]
    }
   ],
   "source": [
    "# 11382번 문제\n",
    "'''\n",
    "첫 번째 줄에 A, B, C (1 ≤ A, B, C ≤ 1012)이 공백을 사이에 두고 주어진다.\n",
    "A+B+C의 값을 출력한다.\n",
    "\n",
    "입력: 77 77 7777\n",
    "출력: 7931\n",
    "'''\n",
    "\n",
    "A, B, C = map(int,(input().split()))\n",
    "\n",
    "if A and B and C >= 1 and C <= 10**12:\n",
    "    print(A+B+C) "
   ]
  },
  {
   "cell_type": "code",
   "execution_count": 80,
   "metadata": {},
   "outputs": [
    {
     "name": "stdout",
     "output_type": "stream",
     "text": [
      "\\    /\\\n",
      " )  ( ')\n",
      "(  /  )\n",
      " \\(__)|\n"
     ]
    }
   ],
   "source": [
    "# 10171번 문제\n",
    "\n",
    "print(\"\\\\    /\\\\\")\n",
    "print(\" )  ( ')\")\n",
    "print(\"(  /  )\")\n",
    "print(\" \\\\(__)|\")"
   ]
  },
  {
   "cell_type": "code",
   "execution_count": 88,
   "metadata": {},
   "outputs": [
    {
     "name": "stdout",
     "output_type": "stream",
     "text": [
      "|\\_/|\n",
      "|q p|   /}\n",
      "( 0 )\"\"\"\\\n",
      "|\"^\"`    |\n",
      "||_/=\\\\__|\n"
     ]
    }
   ],
   "source": [
    "# 10172번 문제\n",
    "\n",
    "print(\"|\\_/|\")\n",
    "print(\"|q p|   /}\")\n",
    "print('( 0 )\"\"\"\\\\')\n",
    "print('|\"^\"`    |')\n",
    "print(\"||_/=\\\\\\__|\")"
   ]
  }
 ],
 "metadata": {
  "interpreter": {
   "hash": "9d8a9280fa11e5f6b7d7b40bf5e95140622bcefe96b24bd5b353cc544b21c419"
  },
  "kernelspec": {
   "display_name": "Python 3.9.13 64-bit (windows store)",
   "language": "python",
   "name": "python3"
  },
  "language_info": {
   "codemirror_mode": {
    "name": "ipython",
    "version": 3
   },
   "file_extension": ".py",
   "mimetype": "text/x-python",
   "name": "python",
   "nbconvert_exporter": "python",
   "pygments_lexer": "ipython3",
   "version": "3.9.13"
  },
  "orig_nbformat": 4
 },
 "nbformat": 4,
 "nbformat_minor": 2
}
